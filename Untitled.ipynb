{
  "metadata": {
    "language_info": {
      "codemirror_mode": {
        "name": "python",
        "version": 3
      },
      "file_extension": ".py",
      "mimetype": "text/x-python",
      "name": "python",
      "nbconvert_exporter": "python",
      "pygments_lexer": "ipython3",
      "version": "3.8"
    },
    "kernelspec": {
      "name": "python",
      "display_name": "Python (Pyodide)",
      "language": "python"
    }
  },
  "nbformat_minor": 4,
  "nbformat": 4,
  "cells": [
    {
      "cell_type": "code",
      "source": "##python basics\n\n",
      "metadata": {
        "trusted": true
      },
      "execution_count": 5,
      "outputs": []
    },
    {
      "cell_type": "code",
      "source": "print(\"hello world\")",
      "metadata": {
        "trusted": true
      },
      "execution_count": 6,
      "outputs": [
        {
          "name": "stdout",
          "text": "hello world\n",
          "output_type": "stream"
        }
      ]
    },
    {
      "cell_type": "code",
      "source": "a=30\nb=50\na\nb",
      "metadata": {
        "trusted": true
      },
      "execution_count": 7,
      "outputs": [
        {
          "execution_count": 7,
          "output_type": "execute_result",
          "data": {
            "text/plain": "50"
          },
          "metadata": {}
        }
      ]
    },
    {
      "cell_type": "code",
      "source": "a=30\nb=50\nprint(a)\nprint(b)",
      "metadata": {
        "trusted": true
      },
      "execution_count": 8,
      "outputs": [
        {
          "name": "stdout",
          "text": "30\n50\n",
          "output_type": "stream"
        }
      ]
    },
    {
      "cell_type": "code",
      "source": "a=30.00\nprint(type(a))\n",
      "metadata": {
        "trusted": true
      },
      "execution_count": 9,
      "outputs": [
        {
          "name": "stdout",
          "text": "<class 'float'>\n",
          "output_type": "stream"
        }
      ]
    },
    {
      "cell_type": "code",
      "source": "Name=\"priya\"\na=20;\nb=30.500\nd=\"a\"\n\nprint(Name)\nprint(type(Name))\nprint(a)\nprint(type(d))",
      "metadata": {
        "trusted": true
      },
      "execution_count": 11,
      "outputs": [
        {
          "name": "stdout",
          "text": "priya\n<class 'str'>\n20\n<class 'str'>\n",
          "output_type": "stream"
        }
      ]
    },
    {
      "cell_type": "code",
      "source": "a=b=c=20\nprint(a)\nprint(b)\nprint(c)\na",
      "metadata": {
        "trusted": true
      },
      "execution_count": 13,
      "outputs": [
        {
          "name": "stdout",
          "text": "20\n20\n20\n",
          "output_type": "stream"
        },
        {
          "execution_count": 13,
          "output_type": "execute_result",
          "data": {
            "text/plain": "20"
          },
          "metadata": {}
        }
      ]
    },
    {
      "cell_type": "code",
      "source": "a,b,c=20,\"ibm\",20.00\nprint(a)\nprint(b)\nprint(c)\nprint(a,b,c)",
      "metadata": {
        "trusted": true
      },
      "execution_count": 15,
      "outputs": [
        {
          "name": "stdout",
          "text": "20\nibm\n20.0\n20 ibm 20.0\n",
          "output_type": "stream"
        }
      ]
    },
    {
      "cell_type": "code",
      "source": "str=\"\"\"helo\n       this is a multiline statement\"\"\"\nstr",
      "metadata": {
        "trusted": true
      },
      "execution_count": 16,
      "outputs": [
        {
          "execution_count": 16,
          "output_type": "execute_result",
          "data": {
            "text/plain": "'helo\\n       this is a multiline statement'"
          },
          "metadata": {}
        }
      ]
    },
    {
      "cell_type": "code",
      "source": "str[2]",
      "metadata": {
        "trusted": true
      },
      "execution_count": 17,
      "outputs": [
        {
          "execution_count": 17,
          "output_type": "execute_result",
          "data": {
            "text/plain": "'l'"
          },
          "metadata": {}
        }
      ]
    },
    {
      "cell_type": "code",
      "source": "print(len(str))",
      "metadata": {
        "trusted": true
      },
      "execution_count": 18,
      "outputs": [
        {
          "name": "stdout",
          "text": "41\n",
          "output_type": "stream"
        }
      ]
    },
    {
      "cell_type": "code",
      "source": "print(str[:10])",
      "metadata": {
        "trusted": true
      },
      "execution_count": 19,
      "outputs": [
        {
          "name": "stdout",
          "text": "helo\n     \n",
          "output_type": "stream"
        }
      ]
    },
    {
      "cell_type": "code",
      "source": "str1=\"   batch two trai\"\nprint(str1.upper())\nprint(str1.strip())",
      "metadata": {
        "trusted": true
      },
      "execution_count": 24,
      "outputs": [
        {
          "name": "stdout",
          "text": "   BATCH TWO TRAI\nbatch two trai\n",
          "output_type": "stream"
        }
      ]
    },
    {
      "cell_type": "code",
      "source": "str1.index('')",
      "metadata": {
        "trusted": true
      },
      "execution_count": 22,
      "outputs": [
        {
          "execution_count": 22,
          "output_type": "execute_result",
          "data": {
            "text/plain": "0"
          },
          "metadata": {}
        }
      ]
    },
    {
      "cell_type": "code",
      "source": "str2=\"joined\"\nprint(str1+\" \"+str2)",
      "metadata": {
        "trusted": true
      },
      "execution_count": 26,
      "outputs": [
        {
          "name": "stdout",
          "text": "   batch two trai joined\n",
          "output_type": "stream"
        }
      ]
    },
    {
      "cell_type": "code",
      "source": "m=\"donna\"\nn=23\nmsg=\"my name is {0} age is {1}\"\nprint(msg.format(m,n))",
      "metadata": {
        "trusted": true
      },
      "execution_count": 33,
      "outputs": [
        {
          "name": "stdout",
          "text": "my name is donna age is 23\n",
          "output_type": "stream"
        }
      ]
    },
    {
      "cell_type": "code",
      "source": "print(100>90)\nprint(100<90)",
      "metadata": {
        "trusted": true
      },
      "execution_count": 34,
      "outputs": [
        {
          "name": "stdout",
          "text": "True\nFalse\n",
          "output_type": "stream"
        }
      ]
    },
    {
      "cell_type": "code",
      "source": "a=30\nif(a==20):\n    print(\"a is 20\")\nelif(a==30):\n    print(\"30\")\nelse:\n    print(\"error\")",
      "metadata": {
        "trusted": true
      },
      "execution_count": 35,
      "outputs": [
        {
          "name": "stdout",
          "text": "a is 20\n",
          "output_type": "stream"
        }
      ]
    },
    {
      "cell_type": "code",
      "source": "for i in str1:\n    print(i)",
      "metadata": {
        "trusted": true
      },
      "execution_count": 38,
      "outputs": [
        {
          "name": "stdout",
          "text": " \n \n \nb\na\nt\nc\nh\n \nt\nw\no\n \nt\nr\na\ni\n",
          "output_type": "stream"
        }
      ]
    },
    {
      "cell_type": "code",
      "source": "for i in range(5):\n    print(i)",
      "metadata": {
        "trusted": true
      },
      "execution_count": 39,
      "outputs": [
        {
          "name": "stdout",
          "text": "0\n1\n2\n3\n4\n",
          "output_type": "stream"
        }
      ]
    },
    {
      "cell_type": "code",
      "source": "def sum():\n    print(\"sum function\")\nsum()",
      "metadata": {
        "trusted": true
      },
      "execution_count": 40,
      "outputs": [
        {
          "name": "stdout",
          "text": "sum function\n",
          "output_type": "stream"
        }
      ]
    },
    {
      "cell_type": "code",
      "source": "def calculator(n,m,i):\n    if (i=='+'):\n        print(\"addition =\", n+m)\n    elif (i=='*'):\n        print(\"multiplication =\", n*m)\n    elif (i=='-'):  \n        print(\"substraction =\", n-m)\n    elif (i=='/'):\n        print(\"division=\" ,n/m)\n    else:\n         print(\"wrong option\")\ncalculator(5,10,'+')\n        \n    \n",
      "metadata": {
        "trusted": true
      },
      "execution_count": 45,
      "outputs": [
        {
          "name": "stdout",
          "text": "addition = 15\n",
          "output_type": "stream"
        }
      ]
    },
    {
      "cell_type": "code",
      "source": "list1=['a',25,8.93]\nlist1",
      "metadata": {
        "trusted": true
      },
      "execution_count": 46,
      "outputs": [
        {
          "execution_count": 46,
          "output_type": "execute_result",
          "data": {
            "text/plain": "['a', 25, 8.93]"
          },
          "metadata": {}
        }
      ]
    },
    {
      "cell_type": "code",
      "source": "list1[2]",
      "metadata": {
        "trusted": true
      },
      "execution_count": 47,
      "outputs": [
        {
          "execution_count": 47,
          "output_type": "execute_result",
          "data": {
            "text/plain": "8.93"
          },
          "metadata": {}
        }
      ]
    },
    {
      "cell_type": "code",
      "source": "list1[2:]",
      "metadata": {
        "trusted": true
      },
      "execution_count": 51,
      "outputs": [
        {
          "execution_count": 51,
          "output_type": "execute_result",
          "data": {
            "text/plain": "[8.93]"
          },
          "metadata": {}
        }
      ]
    },
    {
      "cell_type": "code",
      "source": "if \"ibm\" in list1:\n    print(\"found\")\nelse:\n    print(\"not found\")",
      "metadata": {
        "trusted": true
      },
      "execution_count": 52,
      "outputs": [
        {
          "name": "stdout",
          "text": "not found\n",
          "output_type": "stream"
        }
      ]
    },
    {
      "cell_type": "code",
      "source": "list1.append(\"ibm\")\nprint(list1)\nlist1.reverse()\nprint(list1)\nlist1.pop()\nprint(list1)\nlist1.insert(0,4)\nprint(list1)\n",
      "metadata": {
        "trusted": true
      },
      "execution_count": 54,
      "outputs": [
        {
          "name": "stdout",
          "text": "['a', 25, 8.93, 'ibm']\n['ibm', 8.93, 25, 'a']\n['ibm', 8.93, 25]\n[4, 'ibm', 8.93, 25]\n",
          "output_type": "stream"
        }
      ]
    },
    {
      "cell_type": "code",
      "source": "",
      "metadata": {},
      "execution_count": null,
      "outputs": []
    }
  ]
}